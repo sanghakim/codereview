{
  "nbformat": 4,
  "nbformat_minor": 0,
  "metadata": {
    "anaconda-cloud": {},
    "celltoolbar": "Slideshow",
    "extensions": {
      "jupyter_dashboards": {
        "activeView": "report_default",
        "version": 1,
        "views": {
          "grid_default": {
            "cellMargin": 10,
            "defaultCellHeight": 20,
            "maxColumns": 12,
            "name": "grid",
            "type": "grid"
          },
          "report_default": {
            "name": "report",
            "type": "report"
          }
        }
      }
    },
    "hide_input": false,
    "kernelspec": {
      "display_name": "Python 3",
      "language": "python",
      "name": "python3"
    },
    "language_info": {
      "codemirror_mode": {
        "name": "ipython",
        "version": 3
      },
      "file_extension": ".py",
      "mimetype": "text/x-python",
      "name": "python",
      "nbconvert_exporter": "python",
      "pygments_lexer": "ipython3",
      "version": "3.9.6"
    },
    "nbpresent": {
      "slides": {
        "0d5190a6-fe59-46ea-944f-dfda62d5511f": {
          "id": "0d5190a6-fe59-46ea-944f-dfda62d5511f",
          "prev": "38586874-e878-4b3e-a1a4-535f59be5e39",
          "regions": {
            "df927029-43b6-402d-b31c-b6a8fea2f514": {
              "attrs": {
                "height": 0.8,
                "width": 0.8,
                "x": 0.1,
                "y": 0.1
              },
              "content": {
                "cell": "a8aa33ca-1d4b-4806-8b72-0c71fe852028",
                "part": "whole"
              },
              "id": "df927029-43b6-402d-b31c-b6a8fea2f514"
            }
          }
        },
        "1294f4e0-d6df-42e0-9004-5c44774d69d7": {
          "id": "1294f4e0-d6df-42e0-9004-5c44774d69d7",
          "prev": null,
          "regions": {
            "23072a27-a60b-483f-b335-5a84c07cf2cc": {
              "attrs": {
                "height": 0.8,
                "width": 0.8,
                "x": 0.1,
                "y": 0.1
              },
              "content": {
                "cell": "46e9d8cc-e19a-4114-a597-41047686bead",
                "part": "whole"
              },
              "id": "23072a27-a60b-483f-b335-5a84c07cf2cc"
            }
          }
        },
        "1b1faeb2-e256-4912-bea4-1753b4b2f1d4": {
          "id": "1b1faeb2-e256-4912-bea4-1753b4b2f1d4",
          "prev": "79c44bc7-eb48-4e3a-8a2c-6667a4d1beb2",
          "regions": {
            "9177fcad-8083-404d-be64-d53c4069b840": {
              "attrs": {
                "height": 0.8,
                "width": 0.8,
                "x": 0.1,
                "y": 0.1
              },
              "content": {
                "cell": "c6d81f00-32a6-4b39-af06-5ae4353a7777",
                "part": "whole"
              },
              "id": "9177fcad-8083-404d-be64-d53c4069b840"
            }
          }
        },
        "24f2ce6d-45b3-4109-a42b-fdd5e4d11655": {
          "id": "24f2ce6d-45b3-4109-a42b-fdd5e4d11655",
          "prev": "1b1faeb2-e256-4912-bea4-1753b4b2f1d4",
          "regions": {
            "ab8accf5-c358-4536-bebf-374c2a71b331": {
              "attrs": {
                "height": 0.8,
                "width": 0.8,
                "x": 0.1,
                "y": 0.1
              },
              "content": {
                "cell": "ad11f854-85a5-4473-ad40-8705cd4f8dac",
                "part": "whole"
              },
              "id": "ab8accf5-c358-4536-bebf-374c2a71b331"
            }
          }
        },
        "26ad9922-c745-4a3f-830b-3f7e6d773508": {
          "id": "26ad9922-c745-4a3f-830b-3f7e6d773508",
          "prev": "4ceb54a0-e0d6-4836-9b9e-780d3cc9ff9f",
          "regions": {
            "0a19015d-1976-4b3d-8f00-a66526e1d0fc": {
              "attrs": {
                "height": 0.8,
                "width": 0.8,
                "x": 0.1,
                "y": 0.1
              },
              "content": {
                "cell": "525e75b1-7b48-49aa-8560-db43d1656e1e",
                "part": "whole"
              },
              "id": "0a19015d-1976-4b3d-8f00-a66526e1d0fc"
            }
          }
        },
        "362d3847-cb6b-4dbb-94e9-fc62c21bfeb9": {
          "id": "362d3847-cb6b-4dbb-94e9-fc62c21bfeb9",
          "prev": "ea4cbb4f-d871-41fd-9a7c-04dc2b45ecaf",
          "regions": {
            "b78fb3b5-5ca0-4a37-9853-37c574343d6f": {
              "attrs": {
                "height": 0.8,
                "width": 0.8,
                "x": 0.1,
                "y": 0.1
              },
              "content": {
                "cell": "8eabab5b-5229-49b7-a5ee-013c625bc954",
                "part": "whole"
              },
              "id": "b78fb3b5-5ca0-4a37-9853-37c574343d6f"
            }
          }
        },
        "38586874-e878-4b3e-a1a4-535f59be5e39": {
          "id": "38586874-e878-4b3e-a1a4-535f59be5e39",
          "prev": "362d3847-cb6b-4dbb-94e9-fc62c21bfeb9",
          "regions": {
            "88617052-36bd-4ab3-82cb-8308420bddb0": {
              "attrs": {
                "height": 0.8,
                "width": 0.8,
                "x": 0.1,
                "y": 0.1
              },
              "content": {
                "cell": "17ef6a69-2840-48e4-9029-bfe1b0ddbc7b",
                "part": "whole"
              },
              "id": "88617052-36bd-4ab3-82cb-8308420bddb0"
            }
          }
        },
        "4ceb54a0-e0d6-4836-9b9e-780d3cc9ff9f": {
          "id": "4ceb54a0-e0d6-4836-9b9e-780d3cc9ff9f",
          "prev": "1294f4e0-d6df-42e0-9004-5c44774d69d7",
          "regions": {
            "0c02c58f-b4e8-49c2-9c80-869e8bbc131c": {
              "attrs": {
                "height": 0.8,
                "width": 0.8,
                "x": 0.1,
                "y": 0.1
              },
              "content": {
                "cell": "2ccf2d53-19cb-407f-9a59-215f88170dc7",
                "part": "whole"
              },
              "id": "0c02c58f-b4e8-49c2-9c80-869e8bbc131c"
            }
          }
        },
        "79c44bc7-eb48-4e3a-8a2c-6667a4d1beb2": {
          "id": "79c44bc7-eb48-4e3a-8a2c-6667a4d1beb2",
          "prev": "0d5190a6-fe59-46ea-944f-dfda62d5511f",
          "regions": {
            "a60c27c0-ff2b-4f5d-9dc2-0cc11012de02": {
              "attrs": {
                "height": 0.8,
                "width": 0.8,
                "x": 0.1,
                "y": 0.1
              },
              "content": {
                "cell": "20b17cba-8727-4373-9595-6c971a92173b",
                "part": "whole"
              },
              "id": "a60c27c0-ff2b-4f5d-9dc2-0cc11012de02"
            }
          }
        },
        "9038e71e-c05f-4ed0-9093-a0e6be14616d": {
          "id": "9038e71e-c05f-4ed0-9093-a0e6be14616d",
          "prev": "26ad9922-c745-4a3f-830b-3f7e6d773508",
          "regions": {
            "3fb9a76c-1e6f-4100-ab65-43c1b8211f67": {
              "attrs": {
                "height": 0.8,
                "width": 0.8,
                "x": 0.1,
                "y": 0.1
              },
              "content": {
                "cell": "914189e4-3142-4e4d-a74f-c9d0b9c1501f",
                "part": "whole"
              },
              "id": "3fb9a76c-1e6f-4100-ab65-43c1b8211f67"
            }
          }
        },
        "97eab42c-23ce-4cea-bb12-680adea40148": {
          "id": "97eab42c-23ce-4cea-bb12-680adea40148",
          "prev": "9038e71e-c05f-4ed0-9093-a0e6be14616d",
          "regions": {
            "5886e585-e637-49bc-baf9-8f02a49cfff1": {
              "attrs": {
                "height": 0.8,
                "width": 0.8,
                "x": 0.1,
                "y": 0.1
              },
              "content": {
                "cell": "9e30a229-f668-436c-ab35-5403e8ced00c",
                "part": "whole"
              },
              "id": "5886e585-e637-49bc-baf9-8f02a49cfff1"
            }
          }
        },
        "ea4cbb4f-d871-41fd-9a7c-04dc2b45ecaf": {
          "id": "ea4cbb4f-d871-41fd-9a7c-04dc2b45ecaf",
          "prev": "97eab42c-23ce-4cea-bb12-680adea40148",
          "regions": {
            "351b20f7-73f4-4a4b-bf5c-876a4c1a8b48": {
              "attrs": {
                "height": 0.8,
                "width": 0.8,
                "x": 0.1,
                "y": 0.1
              },
              "content": {
                "cell": "988692f1-584d-4657-8f88-177fe8c9a3a3",
                "part": "whole"
              },
              "id": "351b20f7-73f4-4a4b-bf5c-876a4c1a8b48"
            }
          }
        }
      },
      "themes": {
        "default": "f420f138-258f-43f7-a51d-f1d18dd79a5a",
        "theme": {}
      }
    },
    "toc": {
      "base_numbering": 1,
      "nav_menu": {},
      "number_sections": true,
      "sideBar": true,
      "skip_h1_title": false,
      "title_cell": "Table of Contents",
      "title_sidebar": "Contents",
      "toc_cell": true,
      "toc_position": {},
      "toc_section_display": true,
      "toc_window_display": false
    },
    "varInspector": {
      "cols": {
        "lenName": 16,
        "lenType": 16,
        "lenVar": 40
      },
      "kernels_config": {
        "python": {
          "delete_cmd_postfix": "",
          "delete_cmd_prefix": "del ",
          "library": "var_list.py",
          "varRefreshCmd": "print(var_dic_list())"
        },
        "r": {
          "delete_cmd_postfix": ") ",
          "delete_cmd_prefix": "rm(",
          "library": "var_list.r",
          "varRefreshCmd": "cat(var_dic_list()) "
        }
      },
      "types_to_exclude": [
        "module",
        "function",
        "builtin_function_or_method",
        "instance",
        "_Feature"
      ],
      "window_display": false
    },
    "colab": {
      "provenance": [],
      "include_colab_link": true
    }
  },
  "cells": [
    {
      "cell_type": "markdown",
      "metadata": {
        "id": "view-in-github",
        "colab_type": "text"
      },
      "source": [
        "<a href=\"https://colab.research.google.com/github/sanghakim/codereview/blob/master/hw1_python%EC%9D%98_%EA%B9%80%EC%83%81%ED%95%98.ipynb\" target=\"_parent\"><img src=\"https://colab.research.google.com/assets/colab-badge.svg\" alt=\"Open In Colab\"/></a>"
      ]
    },
    {
      "cell_type": "markdown",
      "metadata": {
        "tags": [],
        "id": "ba7f2d99-eab6-48e3-ae6f-353acd5647f0"
      },
      "source": [
        "# 과제 1"
      ]
    },
    {
      "cell_type": "markdown",
      "metadata": {
        "tags": [],
        "id": "7ec6a63f-8513-406d-bcb3-8f6a0fbc04c5"
      },
      "source": [
        "## 문제 1: 수식을 파이썬 코드로 바꾸어 계산하기"
      ]
    },
    {
      "cell_type": "markdown",
      "metadata": {
        "tags": [],
        "id": "d491655e-fa80-4642-980b-37a025a081ed"
      },
      "source": [
        "- - -\n",
        "다음 수식을 파이썬에서 구성한 후 계산해 보세요.\n",
        "\n",
        "- $ 5 \\times 3 - 11 \\div 2 $\n",
        "\n",
        "- $ 11 \\times 9 \\div 3 + 25 $\n",
        "\n",
        "- $ 910520 - 4403505 \\div 880701 $\n",
        "\n",
        "- $ 5^3 - 8 \\; \\% \\; 9 $\n",
        "\n",
        "\n",
        "위 식에서 $\\%$는 나머지를 구하는 연산입니다.\n",
        "- - -"
      ]
    },
    {
      "cell_type": "code",
      "execution_count": 5,
      "metadata": {
        "id": "f35b2157-e7df-40b9-85a4-3633d941fc3b",
        "colab": {
          "base_uri": "https://localhost:8080/"
        },
        "outputId": "5dcb3e6f-c968-4189-a1a6-46a6d92bbbd5"
      },
      "outputs": [
        {
          "output_type": "execute_result",
          "data": {
            "text/plain": [
              "9.5"
            ]
          },
          "metadata": {},
          "execution_count": 5
        }
      ],
      "source": [
        "5*3-11/2"
      ]
    },
    {
      "cell_type": "code",
      "execution_count": 6,
      "metadata": {
        "id": "6e8b73a8-8156-4aa1-95d3-34146fb86bd9",
        "colab": {
          "base_uri": "https://localhost:8080/"
        },
        "outputId": "95e87838-5ef9-4807-a46f-be67e463ef18"
      },
      "outputs": [
        {
          "output_type": "execute_result",
          "data": {
            "text/plain": [
              "58.0"
            ]
          },
          "metadata": {},
          "execution_count": 6
        }
      ],
      "source": [
        "11*9/3+25"
      ]
    },
    {
      "cell_type": "code",
      "execution_count": 7,
      "metadata": {
        "id": "21ba1260-c47e-4616-b7cd-e91bd5b011a6",
        "colab": {
          "base_uri": "https://localhost:8080/"
        },
        "outputId": "402d3f9a-4d72-4f2e-ca8f-486305c1af5d"
      },
      "outputs": [
        {
          "output_type": "execute_result",
          "data": {
            "text/plain": [
              "910515.0"
            ]
          },
          "metadata": {},
          "execution_count": 7
        }
      ],
      "source": [
        "910520-4403505/880701"
      ]
    },
    {
      "cell_type": "code",
      "execution_count": 9,
      "metadata": {
        "id": "96d374d6-9857-4db3-a317-6e8684ed7464",
        "colab": {
          "base_uri": "https://localhost:8080/"
        },
        "outputId": "f9ff2b13-73db-450d-89a8-badcacab638a"
      },
      "outputs": [
        {
          "output_type": "execute_result",
          "data": {
            "text/plain": [
              "117"
            ]
          },
          "metadata": {},
          "execution_count": 9
        }
      ],
      "source": [
        "5**3-8%9"
      ]
    },
    {
      "cell_type": "markdown",
      "metadata": {
        "tags": [],
        "id": "37add168-b521-4f5e-ba29-43ebdfc0bc5f"
      },
      "source": [
        "## 문제 2: 우선 순위가 있는 수식을 파이썬 코드로 바꾸어 계산하기"
      ]
    },
    {
      "cell_type": "markdown",
      "metadata": {
        "tags": [],
        "id": "fad7c259-3c2b-42fd-8c7f-d9ec3aa7ddfe"
      },
      "source": [
        "- - -\n",
        "다음 수식을 파이썬에서 구성하여 계산한다.\n",
        "\n",
        "- $ 5 \\times (3 - 11 \\div 2) $\n",
        "\n",
        "- $ 9 \\times (8 + (10 - 6) \\div 2) $\n",
        "\n",
        "- $ 700 - (365 - 5 \\times 3) \\times 2 $\n",
        "\n",
        "- $ ((5^3 - 5 \\times 5) \\; \\% \\; 5 + 3)^3 $\n",
        "\n",
        "위 식에서 $\\%$는 나머지를 구하는 연산이다.\n",
        "- - -"
      ]
    },
    {
      "cell_type": "code",
      "execution_count": 10,
      "metadata": {
        "id": "86d80b25-b72d-4595-88f3-60c0aede3cf3",
        "colab": {
          "base_uri": "https://localhost:8080/"
        },
        "outputId": "a0fc9b6c-de00-4081-a645-b22d36fb21f8"
      },
      "outputs": [
        {
          "output_type": "execute_result",
          "data": {
            "text/plain": [
              "-12.5"
            ]
          },
          "metadata": {},
          "execution_count": 10
        }
      ],
      "source": [
        "5*(3-11/2)"
      ]
    },
    {
      "cell_type": "code",
      "execution_count": 11,
      "metadata": {
        "id": "9ccff869-0694-4355-bf0b-fc565f6a117c",
        "colab": {
          "base_uri": "https://localhost:8080/"
        },
        "outputId": "761ed7ea-a6a1-4c91-d451-bd8556bd4493"
      },
      "outputs": [
        {
          "output_type": "execute_result",
          "data": {
            "text/plain": [
              "90.0"
            ]
          },
          "metadata": {},
          "execution_count": 11
        }
      ],
      "source": [
        "9*(8+(10-6)/2)"
      ]
    },
    {
      "cell_type": "code",
      "execution_count": 12,
      "metadata": {
        "id": "06561151-6360-407b-a4b6-c4bc82e044c9",
        "colab": {
          "base_uri": "https://localhost:8080/"
        },
        "outputId": "6c96ab90-b41a-4a71-c750-4622a90b8600"
      },
      "outputs": [
        {
          "output_type": "execute_result",
          "data": {
            "text/plain": [
              "0"
            ]
          },
          "metadata": {},
          "execution_count": 12
        }
      ],
      "source": [
        "700-(365-5*3)*2"
      ]
    },
    {
      "cell_type": "code",
      "execution_count": 13,
      "metadata": {
        "id": "c6a8ed5a-135b-4803-aa2c-459a4b8da211",
        "colab": {
          "base_uri": "https://localhost:8080/"
        },
        "outputId": "d5d1c6ff-9350-491b-94c8-d2a146d2926d"
      },
      "outputs": [
        {
          "output_type": "execute_result",
          "data": {
            "text/plain": [
              "27"
            ]
          },
          "metadata": {},
          "execution_count": 13
        }
      ],
      "source": [
        "((5**3-5*5)%5+3)**3"
      ]
    },
    {
      "cell_type": "markdown",
      "metadata": {
        "tags": [],
        "id": "6fc6e775-fac9-429e-911e-c9f9075f71f7"
      },
      "source": [
        "## 문제 3: 휴대폰 번호 분리하여 출력하기"
      ]
    },
    {
      "cell_type": "markdown",
      "metadata": {
        "id": "1580e617-cad8-4cf5-85d1-adc539796221"
      },
      "source": [
        "- - -\n",
        "phone 변수를 만들고 휴대폰 번호 010-2345-6789를 할당한 후에 출력합니다. 그리고 이 번호의 이동통신 식별 번호(010)와 앞자리 번호(2345) 그리고 뒷자리 번호(6789)를 각각 추출해서 출력합니다.\n",
        "- - -"
      ]
    },
    {
      "cell_type": "markdown",
      "metadata": {
        "id": "5c624583-8a18-40db-984e-cee85aab203f"
      },
      "source": [
        "**실행 예시**\n",
        "\n",
        "<pre>\n",
        "휴대폰 번호\t: 010-2345-6789\n",
        "식별 번호\t : 010\n",
        "앞자리 번호\t: 2345\n",
        "뒷자리 번호\t: 6789\n",
        "</pre>"
      ]
    },
    {
      "cell_type": "code",
      "execution_count": 16,
      "metadata": {
        "id": "6330ecd1-302a-42a4-afc3-1c4362d6a7fd",
        "colab": {
          "base_uri": "https://localhost:8080/"
        },
        "outputId": "bfa354d0-b73f-4602-bef3-102315629a1a"
      },
      "outputs": [
        {
          "output_type": "stream",
          "name": "stdout",
          "text": [
            "휴대폰 번호: 010-2345-6789\n",
            "식별 번호: 010\n",
            "앞자리 번호: 2345\n",
            "뒷자리 번호: 6789\n"
          ]
        }
      ],
      "source": [
        "phone=\"010-2345-6789\"\n",
        "print(\"휴대폰 번호: \"+phone)\n",
        "print(\"식별 번호: \" +phone[0:3])\n",
        "print(\"앞자리 번호: \"+phone[4:8])\n",
        "print(\"뒷자리 번호: \"+phone[9:14])"
      ]
    },
    {
      "cell_type": "markdown",
      "source": [
        "![image.png](data:image/png;base64,iVBORw0KGgoAAAANSUhEUgAACNQAAACCCAIAAAALqJDgAAAKsGlDQ1BJQ0MgUHJvZmlsZQAASImVlwdQU+kWgP9700NCC4QOoTfpAgGkhNACKEgHUQlJgFBCSEHAriyu4FpQEcGyoKsgCjaKiIqIYmER7H2DLCLquliwofIuMITdffPem3dmTs43J+c/5c79Z84FgKzJFgozYWUAsgQSUUSgLy0uPoGGewbwQBVRDeDO5oiFjPDwUIDItP27fLgDoAl702Yi17///19FhcsTcwCAwhFO5oo5WQifRPQ9RyiSAICqQfzGSyTCCe5GWE2ENIiwbIJTp/j9BCdPMho/GRMVwURYFwA8ic0WpQJAskD8tFxOKpKHFISwvYDLFyCch7BXVlY2F+EWhC2QGCHCE/npyX/Jk/q3nMnynGx2qpynZpkUvB9fLMxk5/+fj+N/S1amdLqGGaKkNFFQBGKRvqB7GdkhchYkzwubZj53Mn6S06RB0dPMETMTppnL9guRn82cFzrNKfwAljyPhBU1zTyxf+Q0i7Ij5LVSREzGNLNFM3WlGdFyfxqPJc9fkBYVO825/Jh50yzOiAyZiWHK/SJphLx/niDQd6ZugHz2LPFf5uWz5GclaVFB8tnZM/3zBIyZnOI4eW9cnp//TEy0PF4o8ZXXEmaGy+N5mYFyvzg3Un5WgryQM2fD5c8wnR0cPs0gEkiAFHABH2QDGvBDrBgIQSZgg3wJL08yMRAzW5gv4qemSWgM5KbxaCwBx3YWzdHe0RGAiXs79Vq8o07eR4h6dca3thYAz1Pj4+OnZ3zBvQAcSwKA2Djjs1gIgPIQAJfbOFJR7pQPPfGDAUSgBNSAFtAHxsAC2ABH4AI8gA/wB8EgDESBeLAIcEAayAIisAQsA6tBESgBm8F2UAH2gn2gBhwBx0EzaAPnwSVwDfSC2+AhkIFB8BKMgA9gDIIgHESGKJAWZACZQtaQI0SHvCB/KBSKgOKhJCgVEkBSaBm0FiqBSqEKqAqqhY5Bp6Dz0BWoD7oP9UPD0FvoC4yCSbAarAebwXYwHWbAIXAUvBBOhXPgArgQ3giXw9XwYbgJPg9fg2/DMvglPIoCKAUUFWWIskHRUUxUGCoBlYISoVagilFlqGpUPaoV1YW6iZKhXqE+o7FoCpqGtkF7oIPQ0WgOOge9Ar0BXYGuQTehO9E30f3oEfR3DBmji7HGuGNYmDhMKmYJpghThjmAacRcxNzGDGI+YLFYKtYc64oNwsZj07FLsRuwu7EN2HZsH3YAO4rD4bRw1jhPXBiOjZPginA7cYdx53A3cIO4T3gFvAHeER+AT8AL8GvwZfhD+LP4G/gh/BhBmWBKcCeEEbiEfMImwn5CK+E6YZAwRlQhmhM9iVHEdOJqYjmxnniR+Ij4TkFBwUjBTWG+Al9hlUK5wlGFywr9Cp9JqiQrEpOUSJKSNpIOktpJ90nvyGSyGdmHnECWkDeSa8kXyE/InxQpiraKLEWu4krFSsUmxRuKr5UISqZKDKVFSgVKZUonlK4rvVImKJspM5XZyiuUK5VPKd9VHlWhqDiohKlkqWxQOaRyReW5Kk7VTNVflataqLpP9YLqAAVFMaYwKRzKWsp+ykXKoBpWzVyNpZauVqJ2RK1HbURdVX22eox6nnql+hl1GRVFNaOyqJnUTdTj1DvULxp6GgwNnsZ6jXqNGxofNXU0fTR5msWaDZq3Nb9o0bT8tTK0tmg1az3WRmtbac/XXqK9R/ui9isdNR0PHY5Osc5xnQe6sK6VboTuUt19ut26o3r6eoF6Qr2dehf0XulT9X300/W36Z/VHzagGHgZ8A22GZwzeEFTpzFombRyWidtxFDXMMhQalhl2GM4ZmRuFG20xqjB6LEx0ZhunGK8zbjDeMTEwGSuyTKTOpMHpgRTumma6Q7TLtOPZuZmsWbrzJrNnptrmrPMC8zrzB9ZkC28LXIsqi1uWWIt6ZYZlrste61gK2erNKtKq+vWsLWLNd96t3XfLMwst1mCWdWz7tqQbBg2uTZ1Nv22VNtQ2zW2zbav7UzsEuy22HXZfbd3ts+032//0EHVIdhhjUOrw1tHK0eOY6XjLSeyU4DTSqcWpzezrWfzZu+Zfc+Z4jzXeZ1zh/M3F1cXkUu9y7CriWuS6y7Xu3Q1ejh9A/2yG8bN122lW5vbZ3cXd4n7cfc/PWw8MjwOeTyfYz6HN2f/nAFPI0+2Z5WnzIvmleT1s5fM29Cb7V3t/dTH2Ifrc8BniGHJSGccZrz2tfcV+Tb6fmS6M5cz2/1QfoF+xX49/qr+0f4V/k8CjAJSA+oCRgKdA5cGtgdhgkKCtgTdZemxOKxa1kiwa/Dy4M4QUkhkSEXI01CrUFFo61x4bvDcrXMfzTOdJ5jXHAbCWGFbwx6Hm4fnhJ+ej50fPr9y/rMIh4hlEV2RlMjFkYciP0T5Rm2KehhtES2N7ohRikmMqY35GOsXWxori7OLWx53LV47nh/fkoBLiEk4kDC6wH/B9gWDic6JRYl3FpovzFt4ZZH2osxFZxYrLWYvPpGESYpNOpT0lR3GrmaPJrOSdyWPcJicHZyXXB/uNu4wz5NXyhtK8UwpTXme6pm6NXU4zTutLO0Vn8mv4L9JD0rfm/4xIyzjYMZ4ZmxmQxY+KynrlEBVkCHozNbPzsvuE1oLi4SyHPec7TkjohDRATEkXihukaghC1K31EL6g7Q/1yu3MvfTkpglJ/JU8gR53flW+evzhwoCCn5Zil7KWdqxzHDZ6mX9yxnLq1ZAK5JXdKw0Xlm4cnBV4Kqa1cTVGat/XWO/pnTN+7Wxa1sL9QpXFQ78EPhDXZFikajo7jqPdXt/RP/I/7FnvdP6neu/F3OLr5bYl5SVfN3A2XD1J4efyn8a35iysWeTy6Y9m7GbBZvvbPHeUlOqUlpQOrB17tambbRtxdveb1+8/UrZ7LK9O4g7pDtk5aHlLTtNdm7e+bUireJ2pW9lwy7dXet3fdzN3X1jj8+e+r16e0v2fvmZ//O9qsCqpmqz6rJ92H25+57tj9nf9Qv9l9oD2gdKDnw7KDgoq4mo6ax1ra09pHtoUx1cJ60bPpx4uPeI35GWepv6qgZqQ8lRcFR69MWxpGN3jocc7zhBP1F/0vTkrkZKY3ET1JTfNNKc1ixriW/pOxV8qqPVo7XxtO3pg22GbZVn1M9sOks8W3h2/FzBudF2Yfur86nnBzoWdzy8EHfhVuf8zp6LIRcvXwq4dKGL0XXusufltivuV05dpV9tvuZyranbubvxV+dfG3tcepquu15v6XXrbe2b03f2hveN8zf9bl66xbp17fa82313ou/cu5t4V3aPe+/5/cz7bx7kPhh7uOoR5lHxY+XHZU90n1T/Zvlbg8xFdqbfr7/7aeTThwOcgZe/i3//Olj4jPysbMhgqPa54/O24YDh3hcLXgy+FL4ce1X0h8ofu15bvD75p8+f3SNxI4NvRG/G3254p/Xu4PvZ7ztGw0effMj6MPax+JPWp5rP9M9dX2K/DI0t+Yr7Wv7N8lvr95Dvj8azxseFbBF7chVAIQqnpADw9iAA5HgAKMgOQVwwtVdPCjT1LTBJ4D/x1O49KS4A1CNmYj1itgNwFFGzVQAo+QAwsRpF+QDYyUmu0zvw5L4+IVjky6Xe/Z2/xqIns6rywD9kapf/S9//tECe9W/2X7JkDWU9fN92AAAAOGVYSWZNTQAqAAAACAABh2kABAAAAAEAAAAaAAAAAAACoAIABAAAAAEAAAjUoAMABAAAAAEAAACCAAAAAD/IAGcAABlDSURBVHgB7d19kF1lfQfwPXvvvmTfyRKkJCHykuKkHTBiWpnAiEyxvIhQoVZsQWZ4kxotOKSQUSBEwTSjU+rU8SXaVpgwWAqmVKEFpRUKHaqM1NG2U4kYQ4GQbNzNvmTZ3Xtvr6bu3JycJHfP3nv3OeGTyQzn+d3zPM/vfJ78xXfOvVGpVGryhwABAgQIECBAgAABAgQIECBAgAABAgQIECBAgEAtBJprsYg1CBAgQIAAAQIECBAgQIAAAQIECBAgQIAAAQIECPxCQPjk3wEBAgQIECBAgAABAgQIECBAgAABAgQIECBAgEDNBIRPNaO0EAECBAgQIECAAAECBAgQIECAAAECBAgQIECAgPDJvwECBAgQIECAAAECBAgQIECAAAECBAgQIECAAIGaCQifakZpIQIECBAgQIAAAQIECBAgQIAAAQIECBAgQIAAAeGTfwMECBAgQIAAAQIECBAgQIAAAQIECBAgQIAAAQI1ExA+1YzSQgQIECBAgAABAgQIECBAgAABAgQIECBAgAABAvlqCDZu3FjNbe4hQIAAAQIECBAgQIAAAQIECBAgQIAAAQIECBA4LAWWLVu2cuXKah7Nm0/VKLmHAAECBAgQIECAAAECBAgQIECAAAECBAgQIPD6FSgnT+U/VT5/VW8+ldea0aJV7u02AgQIECBAgAABAgQIECBAgAABAgQIECBAgACBw0ygqjefJE+H2al7HAIECBAgQIAAAQIECBAgQIAAAQIECBAgQIBAnQSiUqlUp6UtS4AAAQIECBAgQIAAAQIECBAgQIAAAQIECBAg8HoTqOrNp9cbiuclQIAAAQIECBAgQIAAAQIECBAgQIAAAQIECBBIJyB8SudmFgECBAgQIECAAAECBAgQIECAAAECBAgQIECAQIKA8CkBRYkAAQIECBAgQIAAAQIECBAgQIAAAQIECBAgQCCdgPApnZtZBAgQIECAAAECBAgQIECAAAECBAgQIECAAAECCQLCpwQUJQIECBAgQIAAAQIECBAgQIAAAQIECBAgQIAAgXQCwqd0bmYRIECAAAECBAgQIECAAAECBAgQIECAAAECBAgkCAifElCUCBAgQIAAAQIECBAgQIAAAQIECBAgQIAAAQIE0gkIn9K5mUWAAAECBAgQIECAAAECBAgQIECAAAECBAgQIJAgIHxKQFEiQIAAAQIECBAgQIAAAQIECBAgQIAAAQIECBBIJyB8SudmFgECBAgQIECAAAECBAgQIECAAAECBAgQIECAQIKA8CkBRYkAAQIECBAgQIAAAQIECBAgQIAAAQIECBAgQCCdgPApnZtZBAgQIECAAAECBAgQIECAAAECBAgQIECAAAECCQLCpwQUJQIECBAgQIAAAQIECBAgQIAAAQIECBAgQIAAgXQCwqd0bmYRIECAAAECBAgQIECAAAECBAgQIECAAAECBAgkCAifElCUCBAgQIAAAQIECBAgQIAAAQIECBAgQIAAAQIE0gkIn9K5mUWAAAECBAgQIECAAAECBAgQIECAAAECBAgQIJAgIHxKQFEiQIAAAQIECBAgQIAAAQIECBAgQIAAAQIECBBIJyB8SudmFgECBAgQIECAAAECBAgQIECAAAECBAgQIECAQIKA8CkBRYkAAQIECBAgQIAAAQIECBAgQIAAAQIECBAgQCCdgPApnZtZBAgQIECAAAECBAgQIECAAAECBAgQIECAAAECCQLCpwQUJQIECBAgQIAAAQIECBAgQIAAAQIECBAgQIAAgXQCwqd0bmYRIECAAAECBAgQIECAAAECBAgQIECAAAECBAgkCAifElCUCBAgQIAAAQIECBAgQIAAAQIECBAgQIAAAQIE0gkIn9K5mUWAAAECBAgQIECAAAECBAgQIECAAAECBAgQIJAgIHxKQFEiQIAAAQIECBAgQIAAAQIECBAgQIAAAQIECBBIJyB8SudmFgECBAgQIECAAAECBAgQIECAAAECBAgQIECAQIKA8CkBRYkAAQIECBAgQIAAAQIECBAgQIAAAQIECBAgQCCdgPApnZtZBAgQIECAAAECBAgQIECAAAECBAgQIECAAAECCQLCpwQUJQIECBAgQIAAAQIECBAgQIAAAQIECBAgQIAAgXQCwqd0bmYRIECAAAECBAgQIECAAAECBAgQIECAAAECBAgkCAifElCUCBAgQIAAAQIECBAgQIAAAQIECBAgQIAAAQIE0gkIn9K5mUWAAAECBAgQIECAAAECBAgQIECAAAECBAgQIJAgIHxKQFEiQIAAAQIECBAgQIAAAQIECBAgQIAAAQIECBBIJyB8SudmFgECBAgQIECAAAECBAgQIECAAAECBAgQIECAQIKA8CkBRYkAAQIECBAgQIAAAQIECBAgQIAAAQIECBAgQCCdgPApnZtZBAgQIECAAAECBAgQIECAAAECBAgQIECAAAECCQLCpwQUJQIECBAgQIAAAQIECBAgQIAAAQIECBAgQIAAgXQCwqd0bmYRIECAAAECBAgQIECAAAECBAgQIECAAAECBAgkCOQTakmlwisvlUqlpE9mVcu/4eim5tz0EoXtL5eKxelhrrMz6umbHlZ7USxObX+58uZcd0/U1V1Z+f/rqampHdsT6jMv5X9t4cwnNTXVr4H9Vs719kUdnSmaLOwaKL02Pj0x139k1No2PZy+KI2NFoYGp4f7X0RR1Nx3RNQ+b/+PVAgQIECAAAECBAgQIECAAAECBAgQIECAAIHDRiCqJlIa+/rXdn/yY/V45qO+/d1yIDG98vYzTilnGNPDjvdd3rP61ulhlRelkeHtb19eeXPXh2/suuKDlZW915Nb/mfgveftX09ROfrZ51PMql8D+6/c8uZT+zfeWxn1VdPw1Atbdl7yu5V3zv/rv209+S2Vlb3Xow/cO3znoQ+rHIDljjshf8zC/IkntZ93Uf6YRfsvpUKAAAECBAgQIECAAAECBAgQIECAAAECBAhkV6Cqr90r1uj1oOwyHQadTz737OgD9830QYqDu2Y65eD3l8PFqR/9YPyxR0Y+f9fOC87c9ZErx5/4dvkNsIPP8ikBAgQIECBAgAABAgQIECBAgAABAgQIECCQFYGqwqesPIw+Dy4wvP62qZdePPg9Df504qnvDN5w7Y73v2vqZz9t8Na2I0CAAAECBAgQIECAAAECBAgQIECAAAECBOohIHyqh2q4a+7+1C1Ndfjtrlk+cGHL8wN/eOH4E4/Pch3TCRAgQIAAAQIECBAgQIAAAQIECBAgQIAAgTkXyFfTQevyFV3XfuTgd772/e9O/vu/Vd7TefWqqPkQ4VbU3l45Zc6v288+N3/80hm3EUUznnKACfVuYOLpJ8e+8WDHBRcfYP9aljsuu7K5o3N6xdLkRHHXQGHHq5Pf/17lL3vtvaFcGbzhmq7rru+6atX0FBcECBAgQIAAAQIECBAgQIAAAQIECBAgQIBA5gSqC59WnNa64rRDPNvdX4qFT91XfqippeUQswL7uP2d57efdc4cNtWABoY3rGt72xm5BUfV+zE7L7sq178gYZdCYeKHz+156O/2bL4/9mn5h6DyJ57UfubZsbohAQIECBAgQIAAAQIECBAgQIAAAQIECBAgkBWBQ7yZlJXH0Gf1AuV3jIY3rK3+/trfmcu1nnJq7y2f6r/3ofyvvym2/tAtNxZ2vhorGhIgQIAAAQIECBAgQIAAAQIECBAgQIAAAQJZERA+ZeWkatnn+OOPjn/rkVqumGqtlpOW9X9xU8ubT62cXc7GhtatCfCHqSqbdE2AAAECBAgQIECAAAECBAgQIECAAAECBAgcSED4dCCZw7w+dPvNxaHBOX/IqKd3/l0bo4qfhiq3NPHUd8af/Oc5700DBAgQIECAAAECBAgQIECAAAECBAgQIECAQAoB4VMKtMNhyi++fO8znwzhSaLunq7rro91Mv7w12MVQwIECBAgQIAAAQIECBAgQIAAAQIECBAgQCATAsKnTBxTDZqcd/5FsVX2fHPz+L8G8YJRx8WXNvf3V7Y3/tgjpd1DlRXXBAgQIECAAAECBAgQIECAAAECBAgQIECAQCYEhE+ZOKYaNNm68u0dl7w/ttDudTeXRoZjxcYPo7b2rlWrY/vu+ZdHYxVDAgQIECBAgAABAgQIECBAgAABAgQIECBAIHwB4VP4Z1SzDrtX3Rh7wag4MDD8l5+u2QazWKjj/N+L/fLT+GMPz2I9UwkQIECAAAECBAgQIECAAAECBAgQIECAAIG5ERA+zY37nOxa/nWlnlvXx7Yeu3/TxLPPxIpzMMzl8icurdx3asuPK4euCRAgQIAAAQIECBAgQIAAAQIECBAgQIAAgUwICJ8ycUw1a7L99Hfs/+NPQ+Uv3xvfU7M90i6UX/zGyqnF7a80FYuVFdcECBAgQIAAAQIECBAgQIAAAQIECBAgQIBA+ALCp/DPqMYddn/0Y7EvuCu8uG3kS5+t8TYzXy63eElsUmHw57GKIQECBAgQIECAAAECBAgQIECAAAECBAgQIBC4QD7k/sbuu7v8t5EdDq5eNaPtuj74J11Xf3hGUw5+cwMaaO47ove29YM37dP26Fc3tp11TutvnnLw9ur6afPCxbH1iztfzc3vjxUNCRAgQIAAAQIECBAgQIAAAQIECBAgQIAAgZAFvPk0q9Mp7twxq/mznpyugfbfObf9rHfGNh9ad1NpYiJWbOQwf/TC2HbFwV2xiiEBAgQIECBAgAABAgQIECBAgAABAgQIECAQuIDwKfADqld73X+6Nv7le1ueH/2bL9RrvyrWjXp743cVS/GKMQECBAgQIECAAAECBAgQIECAAAECBAgQIBC2gPAp7POpW3e5BUd137w2tvzIFz87+eP/jhUbNywWG7eXnQgQIECAAAECBAgQIECAAAECBAgQIECAAIH6CAT9m0+5Jce1Ln/rTB+8tHto/PFHZzpr7/0tb/3t/KJjq5+bP3l59TdXc2cjG+g476Lxf3xo4uknKxsbuv2mI7/6YFMuV1lszHVxx6uxjaJ80P8+Y90aEiBAgAABAgQIECBAgAABAgQIECBAgAABAmWBoP/nfttpZ/SsvnWm51QaGU4dPnX+wWXtZ50z0x1reH9DG4iinjWf2HnBmZX9T/3Xj0Y2/VXX5VdXFhtzPfXStthG0fz+WMWQAAECBAgQIECAAAECBAgQIECAAAECBAgQCFzA1+4FfkD1bS9/zKLuNbfH9hj5iz+b2vqTWLEBw8KLP4vtkj9yQaxiSIAAAQIECBAgQIAAAQIECBAgQIAAAQIECAQuIHwK/IDq3l7ney5tecuK2DZD69Y0FQuxYr2HxW1bY1tE3b2xiiEBAgQIECBAgAABAgQIECBAgAABAgQIECAQuIDwKfADqn97zc29H78jts3kc8+OPnBfrFjv4eQLWyq3yC1a3BRFlRXXBAgQIECAAAECBAgQIECAAAECBAgQIECAQPgCwqfwz6juHeaXHN99w5rYNsPrb5t6+X9jxfoNy7/UVdj6QuX6uROWVg5dEyBAgAABAgQIECBAgAABAgQIECBAgAABApkQED5l4pjq3mTnpVfkf+Pk2Da77/x4UylWq9dw5J4vx5aed867YxVDAgQIECBAgAABAgQIECBAgAABAgQIECBAIHwB4VP4Z9SQDnO53lvujO008fSTezY34sv3Cq+8NPrlz8V2bz/9HbGKIQECBAgQIECAAAECBAgQIECAAAECBAgQIBC+gPAp/DNqUIctS9/Udd31sc32fPPvY5V6DEe+cFds2XnnXxh1dMaKhgQIECBAgAABAgQIECBAgAABAgQIECBAgED4AsKn8M+ocR12Xn5N7oQTG7ffL3ea/M8f7PmHB2Obtr/rPbGKIQECBAgQIECAAAECBAgQIECAAAECBAgQIJAJAeFTJo6pQU1Gra19azc0aLNfbjPxw//Yde1lsR3Lrz21/dbKWNGQAAECBAgQIECAAAECBAgQIECAAAECBAgQyISA8CkTx9S4JluWndx5xbWN2G9ycvT+Tbs+cHFpbLRyu+Y3HN2z+rbKimsCBAgQIECAAAECBAgQIECAAAECBAgQIEAgQwL5DPWq1cYIdF29avxbDxde3Fan7aa2/uS1Z54e2/SVxC367vjzqLunTltblgABAgQIECBAgAABAgQIECBAgAABAgQIEKi3gPBpH+HRr93z2lNP7FOqbtD5gWvyx76xunsPdtecN1BuLmqf17t2w66rLj1Yo1V8NvyZO6J5Hb+6sVTaPVTYNVDY9tPiwMCvivH/9nzi063LV8SrxgQIECBAgAABAgQIECBAgAABAgQIECBAgEB2BIRP+5zV5PeeKf/dp1TdYN6FlzTVInya8wb2Pm45Aep43+Vj991d3dMn3zX+T99I/iCpmlu0uG/D51pOWpb0oRoBAgQIECBAgAABAgQIECBAgAABAgQIECCQGQG/+ZSZo2pwo91//NHyzy81ZtP2s8898p7NkqfGaNuFAAECBAgQIECAAAECBAgQIECAAAECBAjUVcCbT3XlzfDiUWdX763rf/6hK+r3DFFHZ8d7/2jeuy/OLzm+frtYmQABAgQIECBAgAABAgQIECBAgAABAgQIEGikQFjhU/OCowpbX5jt87e2lVON0tjo9Drl4fR15UVzT1/lcDbXzX3zU0yvXwM1WbntbafPu+j392y+v/LRorb2yuH0de6I/unrA1009/fnlhyfP/a43MLF+ROWtp12RtTadqCb1QkQIECAAAECBAgQIECAAAECBAgQIECAAIEsCkSlUimLfeuZAAECBAgQIECAAAECBAgQIECAAAECBAgQIEAgQAG/+RTgoWiJAAECBAgQIECAAAECBAgQIECAAAECBAgQIJBVAeFTVk9O3wQIECBAgAABAgQIECBAgAABAgQIECBAgACBAAWETwEeipYIECBAgAABAgQIECBAgAABAgQIECBAgAABAlkVED5l9eT0TYAAAQIECBAgQIAAAQIECBAgQIAAAQIECBAIUED4FOChaIkAAQIECBAgQIAAAQIECBAgQIAAAQIECBAgkFUB4VNWT07fBAgQIECAAAECBAgQIECAAAECBAgQIECAAIEABYRPAR6KlggQIECAAAECBAgQIECAAAECBAgQIECAAAECWRUQPmX15PRNgAABAgQIECBAgAABAgQIECBAgAABAgQIEAhQQPgU4KFoiQABAgQIECBAgAABAgQIECBAgAABAgQIECCQVQHhU1ZPTt8ECBAgQIAAAQIECBAgQIAAAQIECBAgQIAAgQAFhE8BHoqWCBAgQIAAAQIECBAgQIAAAQIECBAgQIAAAQJZFRA+ZfXk9E2AAAECBAgQIECAAAECBAgQIECAAAECBAgQCFBA+BTgoWiJAAECBAgQIECAAAECBAgQIECAAAECBAgQIJBVAeFTVk9O3wQIECBAgAABAgQIECBAgAABAgQIECBAgACBAAWETwEeipYIECBAgAABAgQIECBAgAABAgQIECBAgAABAlkVED5l9eT0TYAAAQIECBAgQIAAAQIECBAgQIAAAQIECBAIUED4FOChaIkAAQIECBAgQIAAAQIECBAgQIAAAQIECBAgkFUB4VNWT07fBAgQIECAAAECBAgQIECAAAECBAgQIECAAIEABYRPAR6KlggQIECAAAECBAgQIECAAAECBAgQIECAAAECWRUQPmX15PRNgAABAgQIECBAgAABAgQIECBAgAABAgQIEAhQQPgU4KFoiQABAgQIECBAgAABAgQIECBAgAABAgQIECCQVQHhU1ZPTt8ECBAgQIAAAQIECBAgQIAAAQIECBAgQIAAgQAFhE8BHoqWCBAgQIAAAQIECBAgQIAAAQIECBAgQIAAAQJZFRA+ZfXk9E2AAAECBAgQIECAAAECBAgQIECAAAECBAgQCFBA+BTgoWiJAAECBAgQIECAAAECBAgQIECAAAECBAgQIJBVAeFTVk9O3wQIECBAgAABAgQIECBAgAABAgQIECBAgACBAAWETwEeipYIECBAgAABAgQIECBAgAABAgQIECBAgAABAlkVED5l9eT0TYAAAQIECBAgQIAAAQIECBAgQIAAAQIECBAIUED4FOChaIkAAQIECBAgQIAAAQIECBAgQIAAAQIECBAgkFUB4VNWT07fBAgQIECAAAECBAgQIECAAAECBAgQIECAAIEABYRPAR6KlggQIECAAAECBAgQIECAAAECBAgQIECAAAECWRUQPmX15PRNgAABAgQIECBAgAABAgQIECBAgAABAgQIEAhQQPgU4KFoiQABAgQIECBAgAABAgQIECBAgAABAgQIECCQVQHhU1ZPTt8ECBAgQIAAAQIECBAgQIAAAQIECBAgQIAAgQAFhE8BHoqWCBAgQIAAAQIECBAgQIAAAQIECBAgQIAAAQJZFRA+ZfXk9E2AAAECBAgQIECAAAECBAgQIECAAAECBAgQCFBA+BTgoWiJAAECBAgQIECAAAECBAgQIECAAAECBAgQIJBVAeFTVk9O3wQIECBAgAABAgQIECBAgAABAgQIECBAgACBAAWETwEeipYIECBAgAABAgQIECBAgAABAgQIECBAgAABAlkV+D9rKlPce8NX0QAAAABJRU5ErkJggg==)"
      ],
      "metadata": {
        "id": "onW2Di-VD-ei"
      }
    }
  ]
}